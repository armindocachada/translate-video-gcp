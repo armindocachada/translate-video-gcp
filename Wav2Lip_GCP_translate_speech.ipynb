{
  "nbformat": 4,
  "nbformat_minor": 0,
  "metadata": {
    "colab": {
      "name": "Wav2Lip_quick_trial.ipynb",
      "provenance": [],
      "collapsed_sections": [],
      "toc_visible": true,
      "include_colab_link": true
    },
    "kernelspec": {
      "name": "python3",
      "display_name": "Python 3"
    },
    "accelerator": "GPU"
  },
  "cells": [
    {
      "cell_type": "markdown",
      "metadata": {
        "id": "view-in-github",
        "colab_type": "text"
      },
      "source": [
        "<a href=\"https://colab.research.google.com/github/armindocachada/translate-video-gcp/blob/master/Wav2Lip_GCP_translate_speech.ipynb\" target=\"_parent\"><img src=\"https://colab.research.google.com/assets/colab-badge.svg\" alt=\"Open In Colab\"/></a>"
      ]
    },
    {
      "cell_type": "markdown",
      "metadata": {
        "id": "vSQFs_G8caeE"
      },
      "source": [
        "# Collab preliminaries"
      ]
    },
    {
      "cell_type": "code",
      "metadata": {
        "id": "XIVB0Xn1g6ih"
      },
      "source": [
        "!nvcc --version\n",
        "!ffmpeg --help"
      ],
      "execution_count": null,
      "outputs": []
    },
    {
      "cell_type": "code",
      "metadata": {
        "id": "qciH4PsUazL_",
        "colab": {
          "base_uri": "https://localhost:8080/"
        },
        "outputId": "376f0b06-9896-40d3-9f56-eb8be0e7fb06"
      },
      "source": [
        "from google.colab import drive\n",
        "drive.mount('/content/gdrive')"
      ],
      "execution_count": 3,
      "outputs": [
        {
          "output_type": "stream",
          "text": [
            "Mounted at /content/gdrive\n"
          ],
          "name": "stdout"
        }
      ]
    },
    {
      "cell_type": "markdown",
      "metadata": {
        "id": "yJ5taGmPcWV-"
      },
      "source": [
        "# Get the code and models"
      ]
    },
    {
      "cell_type": "code",
      "metadata": {
        "id": "P3LihClHbUd3",
        "colab": {
          "base_uri": "https://localhost:8080/"
        },
        "outputId": "cf492290-0b4d-4d37-bcd8-ea2c887e2727"
      },
      "source": [
        "!git clone https://github.com/Rudrabha/Wav2Lip.git"
      ],
      "execution_count": 4,
      "outputs": [
        {
          "output_type": "stream",
          "text": [
            "Cloning into 'Wav2Lip'...\n",
            "remote: Enumerating objects: 65, done.\u001b[K\n",
            "remote: Counting objects: 100% (65/65), done.\u001b[K\n",
            "remote: Compressing objects: 100% (65/65), done.\u001b[K\n",
            "remote: Total 311 (delta 31), reused 6 (delta 0), pack-reused 246\u001b[K\n",
            "Receiving objects: 100% (311/311), 503.21 KiB | 6.54 MiB/s, done.\n",
            "Resolving deltas: 100% (159/159), done.\n"
          ],
          "name": "stdout"
        }
      ]
    },
    {
      "cell_type": "code",
      "metadata": {
        "id": "y-19nzx8SamJ",
        "colab": {
          "base_uri": "https://localhost:8080/"
        },
        "outputId": "63474764-3481-45c7-e101-c915c06feee6"
      },
      "source": [
        "!ls /content/gdrive/MyDrive/wav2lip"
      ],
      "execution_count": 10,
      "outputs": [
        {
          "output_type": "stream",
          "text": [
            "wav2lip_gan.pth\n"
          ],
          "name": "stdout"
        }
      ]
    },
    {
      "cell_type": "code",
      "metadata": {
        "id": "YjzMPy_Sb0AI"
      },
      "source": [
        "!cp -ri \"/content/gdrive/MyDrive/wav2lip/wav2lip_gan.pth\" /content/Wav2Lip/checkpoints/"
      ],
      "execution_count": 11,
      "outputs": []
    },
    {
      "cell_type": "markdown",
      "metadata": {
        "id": "aWTaOS3ncFt6"
      },
      "source": [
        "# Get the pre-requisites"
      ]
    },
    {
      "cell_type": "code",
      "metadata": {
        "id": "Ooh28vw-Uvd3"
      },
      "source": [
        "#!pip uninstall tensorflow tensorflow-gpu"
      ],
      "execution_count": null,
      "outputs": []
    },
    {
      "cell_type": "code",
      "metadata": {
        "id": "49dCYlLdcK2D",
        "colab": {
          "base_uri": "https://localhost:8080/"
        },
        "outputId": "82b5e650-eb0a-418c-f0f4-1e915b0af3c0"
      },
      "source": [
        "!cd Wav2Lip && pip install -r requirements.txt"
      ],
      "execution_count": 12,
      "outputs": [
        {
          "output_type": "stream",
          "text": [
            "Collecting librosa==0.7.0\n",
            "\u001b[?25l  Downloading https://files.pythonhosted.org/packages/ad/6e/0eb0de1c9c4e02df0b40e56f258eb79bd957be79b918511a184268e01720/librosa-0.7.0.tar.gz (1.6MB)\n",
            "\u001b[K     |████████████████████████████████| 1.6MB 16.3MB/s \n",
            "\u001b[?25hCollecting numpy==1.17.1\n",
            "\u001b[?25l  Downloading https://files.pythonhosted.org/packages/75/92/57179ed45307ec6179e344231c47da7f3f3da9e2eee5c8ab506bd279ce4e/numpy-1.17.1-cp36-cp36m-manylinux1_x86_64.whl (20.4MB)\n",
            "\u001b[K     |████████████████████████████████| 20.4MB 1.4MB/s \n",
            "\u001b[?25hCollecting opencv-contrib-python>=4.2.0.34\n",
            "\u001b[?25l  Downloading https://files.pythonhosted.org/packages/b4/ec/a66505cb25704066235369c8a1c1ed8d37b21f260f7b66d2cfa3264f0724/opencv_contrib_python-4.4.0.46-cp36-cp36m-manylinux2014_x86_64.whl (55.7MB)\n",
            "\u001b[K     |████████████████████████████████| 55.7MB 51kB/s \n",
            "\u001b[?25hCollecting opencv-python==4.1.0.25\n",
            "\u001b[?25l  Downloading https://files.pythonhosted.org/packages/7b/d2/a2dbf83d4553ca6b3701d91d75e42fe50aea97acdc00652dca515749fb5d/opencv_python-4.1.0.25-cp36-cp36m-manylinux1_x86_64.whl (26.6MB)\n",
            "\u001b[K     |████████████████████████████████| 26.6MB 123kB/s \n",
            "\u001b[?25hCollecting tensorflow==1.12.0\n",
            "\u001b[?25l  Downloading https://files.pythonhosted.org/packages/22/cc/ca70b78087015d21c5f3f93694107f34ebccb3be9624385a911d4b52ecef/tensorflow-1.12.0-cp36-cp36m-manylinux1_x86_64.whl (83.1MB)\n",
            "\u001b[K     |████████████████████████████████| 83.1MB 51kB/s \n",
            "\u001b[?25hCollecting torch==1.1.0\n",
            "\u001b[?25l  Downloading https://files.pythonhosted.org/packages/69/60/f685fb2cfb3088736bafbc9bdbb455327bdc8906b606da9c9a81bae1c81e/torch-1.1.0-cp36-cp36m-manylinux1_x86_64.whl (676.9MB)\n",
            "\u001b[K     |████████████████████████████████| 676.9MB 25kB/s \n",
            "\u001b[?25hCollecting torchvision==0.3.0\n",
            "\u001b[?25l  Downloading https://files.pythonhosted.org/packages/2e/45/0f2f3062c92d9cf1d5d7eabd3cae88cea9affbd2b17fb1c043627838cb0a/torchvision-0.3.0-cp36-cp36m-manylinux1_x86_64.whl (2.6MB)\n",
            "\u001b[K     |████████████████████████████████| 2.6MB 33.3MB/s \n",
            "\u001b[?25hCollecting tqdm==4.45.0\n",
            "\u001b[?25l  Downloading https://files.pythonhosted.org/packages/4a/1c/6359be64e8301b84160f6f6f7936bbfaaa5e9a4eab6cbc681db07600b949/tqdm-4.45.0-py2.py3-none-any.whl (60kB)\n",
            "\u001b[K     |████████████████████████████████| 61kB 8.1MB/s \n",
            "\u001b[?25hRequirement already satisfied: numba==0.48 in /usr/local/lib/python3.6/dist-packages (from -r requirements.txt (line 9)) (0.48.0)\n",
            "Requirement already satisfied: audioread>=2.0.0 in /usr/local/lib/python3.6/dist-packages (from librosa==0.7.0->-r requirements.txt (line 1)) (2.1.9)\n",
            "Requirement already satisfied: scipy>=1.0.0 in /usr/local/lib/python3.6/dist-packages (from librosa==0.7.0->-r requirements.txt (line 1)) (1.4.1)\n",
            "Requirement already satisfied: scikit-learn!=0.19.0,>=0.14.0 in /usr/local/lib/python3.6/dist-packages (from librosa==0.7.0->-r requirements.txt (line 1)) (0.22.2.post1)\n",
            "Requirement already satisfied: joblib>=0.12 in /usr/local/lib/python3.6/dist-packages (from librosa==0.7.0->-r requirements.txt (line 1)) (0.17.0)\n",
            "Requirement already satisfied: decorator>=3.0.0 in /usr/local/lib/python3.6/dist-packages (from librosa==0.7.0->-r requirements.txt (line 1)) (4.4.2)\n",
            "Requirement already satisfied: six>=1.3 in /usr/local/lib/python3.6/dist-packages (from librosa==0.7.0->-r requirements.txt (line 1)) (1.15.0)\n",
            "Requirement already satisfied: resampy>=0.2.0 in /usr/local/lib/python3.6/dist-packages (from librosa==0.7.0->-r requirements.txt (line 1)) (0.2.2)\n",
            "Collecting soundfile>=0.9.0\n",
            "  Downloading https://files.pythonhosted.org/packages/eb/f2/3cbbbf3b96fb9fa91582c438b574cff3f45b29c772f94c400e2c99ef5db9/SoundFile-0.10.3.post1-py2.py3-none-any.whl\n",
            "Requirement already satisfied: wheel>=0.26 in /usr/local/lib/python3.6/dist-packages (from tensorflow==1.12.0->-r requirements.txt (line 5)) (0.35.1)\n",
            "Requirement already satisfied: astor>=0.6.0 in /usr/local/lib/python3.6/dist-packages (from tensorflow==1.12.0->-r requirements.txt (line 5)) (0.8.1)\n",
            "Requirement already satisfied: keras-preprocessing>=1.0.5 in /usr/local/lib/python3.6/dist-packages (from tensorflow==1.12.0->-r requirements.txt (line 5)) (1.1.2)\n",
            "Requirement already satisfied: protobuf>=3.6.1 in /usr/local/lib/python3.6/dist-packages (from tensorflow==1.12.0->-r requirements.txt (line 5)) (3.12.4)\n",
            "Collecting tensorboard<1.13.0,>=1.12.0\n",
            "\u001b[?25l  Downloading https://files.pythonhosted.org/packages/07/53/8d32ce9471c18f8d99028b7cef2e5b39ea8765bd7ef250ca05b490880971/tensorboard-1.12.2-py3-none-any.whl (3.0MB)\n",
            "\u001b[K     |████████████████████████████████| 3.1MB 36.7MB/s \n",
            "\u001b[?25hRequirement already satisfied: termcolor>=1.1.0 in /usr/local/lib/python3.6/dist-packages (from tensorflow==1.12.0->-r requirements.txt (line 5)) (1.1.0)\n",
            "Requirement already satisfied: gast>=0.2.0 in /usr/local/lib/python3.6/dist-packages (from tensorflow==1.12.0->-r requirements.txt (line 5)) (0.3.3)\n",
            "Collecting keras-applications>=1.0.6\n",
            "\u001b[?25l  Downloading https://files.pythonhosted.org/packages/71/e3/19762fdfc62877ae9102edf6342d71b28fbfd9dea3d2f96a882ce099b03f/Keras_Applications-1.0.8-py3-none-any.whl (50kB)\n",
            "\u001b[K     |████████████████████████████████| 51kB 6.9MB/s \n",
            "\u001b[?25hRequirement already satisfied: grpcio>=1.8.6 in /usr/local/lib/python3.6/dist-packages (from tensorflow==1.12.0->-r requirements.txt (line 5)) (1.33.2)\n",
            "Requirement already satisfied: absl-py>=0.1.6 in /usr/local/lib/python3.6/dist-packages (from tensorflow==1.12.0->-r requirements.txt (line 5)) (0.10.0)\n",
            "Requirement already satisfied: pillow>=4.1.1 in /usr/local/lib/python3.6/dist-packages (from torchvision==0.3.0->-r requirements.txt (line 7)) (7.0.0)\n",
            "Requirement already satisfied: llvmlite<0.32.0,>=0.31.0dev0 in /usr/local/lib/python3.6/dist-packages (from numba==0.48->-r requirements.txt (line 9)) (0.31.0)\n",
            "Requirement already satisfied: setuptools in /usr/local/lib/python3.6/dist-packages (from numba==0.48->-r requirements.txt (line 9)) (50.3.2)\n",
            "Requirement already satisfied: cffi>=1.0 in /usr/local/lib/python3.6/dist-packages (from soundfile>=0.9.0->librosa==0.7.0->-r requirements.txt (line 1)) (1.14.3)\n",
            "Requirement already satisfied: werkzeug>=0.11.10 in /usr/local/lib/python3.6/dist-packages (from tensorboard<1.13.0,>=1.12.0->tensorflow==1.12.0->-r requirements.txt (line 5)) (1.0.1)\n",
            "Requirement already satisfied: markdown>=2.6.8 in /usr/local/lib/python3.6/dist-packages (from tensorboard<1.13.0,>=1.12.0->tensorflow==1.12.0->-r requirements.txt (line 5)) (3.3.3)\n",
            "Requirement already satisfied: h5py in /usr/local/lib/python3.6/dist-packages (from keras-applications>=1.0.6->tensorflow==1.12.0->-r requirements.txt (line 5)) (2.10.0)\n",
            "Requirement already satisfied: pycparser in /usr/local/lib/python3.6/dist-packages (from cffi>=1.0->soundfile>=0.9.0->librosa==0.7.0->-r requirements.txt (line 1)) (2.20)\n",
            "Requirement already satisfied: importlib-metadata; python_version < \"3.8\" in /usr/local/lib/python3.6/dist-packages (from markdown>=2.6.8->tensorboard<1.13.0,>=1.12.0->tensorflow==1.12.0->-r requirements.txt (line 5)) (2.0.0)\n",
            "Requirement already satisfied: zipp>=0.5 in /usr/local/lib/python3.6/dist-packages (from importlib-metadata; python_version < \"3.8\"->markdown>=2.6.8->tensorboard<1.13.0,>=1.12.0->tensorflow==1.12.0->-r requirements.txt (line 5)) (3.4.0)\n",
            "Building wheels for collected packages: librosa\n",
            "  Building wheel for librosa (setup.py) ... \u001b[?25l\u001b[?25hdone\n",
            "  Created wheel for librosa: filename=librosa-0.7.0-cp36-none-any.whl size=1598345 sha256=9832af8cd748f69740ff382efe61c9d67e2e9a3e848b3b254d30bbbd8db58286\n",
            "  Stored in directory: /root/.cache/pip/wheels/49/1d/38/c8ad12fcad67569d8e730c3275be5e581bd589558484a0f881\n",
            "Successfully built librosa\n",
            "\u001b[31mERROR: datascience 0.10.6 has requirement folium==0.2.1, but you'll have folium 0.8.3 which is incompatible.\u001b[0m\n",
            "\u001b[31mERROR: albumentations 0.1.12 has requirement imgaug<0.2.7,>=0.2.5, but you'll have imgaug 0.2.9 which is incompatible.\u001b[0m\n",
            "Installing collected packages: numpy, soundfile, librosa, opencv-contrib-python, opencv-python, tensorboard, keras-applications, tensorflow, torch, torchvision, tqdm\n",
            "  Found existing installation: numpy 1.18.5\n",
            "    Uninstalling numpy-1.18.5:\n",
            "      Successfully uninstalled numpy-1.18.5\n",
            "  Found existing installation: librosa 0.6.3\n",
            "    Uninstalling librosa-0.6.3:\n",
            "      Successfully uninstalled librosa-0.6.3\n",
            "  Found existing installation: opencv-contrib-python 4.1.2.30\n",
            "    Uninstalling opencv-contrib-python-4.1.2.30:\n",
            "      Successfully uninstalled opencv-contrib-python-4.1.2.30\n",
            "  Found existing installation: opencv-python 4.1.2.30\n",
            "    Uninstalling opencv-python-4.1.2.30:\n",
            "      Successfully uninstalled opencv-python-4.1.2.30\n",
            "  Found existing installation: tensorboard 2.3.0\n",
            "    Uninstalling tensorboard-2.3.0:\n",
            "      Successfully uninstalled tensorboard-2.3.0\n",
            "  Found existing installation: tensorflow 2.3.0\n",
            "    Uninstalling tensorflow-2.3.0:\n",
            "      Successfully uninstalled tensorflow-2.3.0\n",
            "  Found existing installation: torch 1.7.0+cu101\n",
            "    Uninstalling torch-1.7.0+cu101:\n",
            "      Successfully uninstalled torch-1.7.0+cu101\n",
            "  Found existing installation: torchvision 0.8.1+cu101\n",
            "    Uninstalling torchvision-0.8.1+cu101:\n",
            "      Successfully uninstalled torchvision-0.8.1+cu101\n",
            "  Found existing installation: tqdm 4.41.1\n",
            "    Uninstalling tqdm-4.41.1:\n",
            "      Successfully uninstalled tqdm-4.41.1\n",
            "Successfully installed keras-applications-1.0.8 librosa-0.7.0 numpy-1.17.1 opencv-contrib-python-4.4.0.46 opencv-python-4.1.0.25 soundfile-0.10.3.post1 tensorboard-1.12.2 tensorflow-1.12.0 torch-1.1.0 torchvision-0.3.0 tqdm-4.45.0\n"
          ],
          "name": "stdout"
        }
      ]
    },
    {
      "cell_type": "code",
      "metadata": {
        "id": "ey_bN4M6X_95",
        "colab": {
          "base_uri": "https://localhost:8080/"
        },
        "outputId": "ed966372-bcd0-469c-ed6d-5dfe62ab3b2b"
      },
      "source": [
        "!wget \"https://www.adrianbulat.com/downloads/python-fan/s3fd-619a316812.pth\" -O \"Wav2Lip/face_detection/detection/sfd/s3fd.pth\""
      ],
      "execution_count": 13,
      "outputs": [
        {
          "output_type": "stream",
          "text": [
            "--2020-11-28 16:57:40--  https://www.adrianbulat.com/downloads/python-fan/s3fd-619a316812.pth\n",
            "Resolving www.adrianbulat.com (www.adrianbulat.com)... 45.136.29.207\n",
            "Connecting to www.adrianbulat.com (www.adrianbulat.com)|45.136.29.207|:443... connected.\n",
            "HTTP request sent, awaiting response... 200 OK\n",
            "Length: 89843225 (86M) [application/octet-stream]\n",
            "Saving to: ‘Wav2Lip/face_detection/detection/sfd/s3fd.pth’\n",
            "\n",
            "Wav2Lip/face_detect 100%[===================>]  85.68M  18.5MB/s    in 5.2s    \n",
            "\n",
            "2020-11-28 16:57:45 (16.6 MB/s) - ‘Wav2Lip/face_detection/detection/sfd/s3fd.pth’ saved [89843225/89843225]\n",
            "\n"
          ],
          "name": "stdout"
        }
      ]
    },
    {
      "cell_type": "markdown",
      "metadata": {
        "id": "qdIQfY2Kswcb"
      },
      "source": [
        "# Now lets try!"
      ]
    },
    {
      "cell_type": "code",
      "metadata": {
        "id": "jR5utmDMcSZY",
        "colab": {
          "base_uri": "https://localhost:8080/"
        },
        "outputId": "a1d7119d-6a20-455e-b1de-54b73f34d91d"
      },
      "source": [
        "!cd Wav2Lip && python inference.py --checkpoint_path checkpoints/wav2lip_gan.pth --face \"../sample_data/on_the_phone_quiet.mov\" --audio \"/content/sample_data/introduction_original_ar.mp3\""
      ],
      "execution_count": 15,
      "outputs": [
        {
          "output_type": "stream",
          "text": [
            "/usr/local/lib/python3.6/dist-packages/tensorflow/python/framework/dtypes.py:523: FutureWarning: Passing (type, 1) or '1type' as a synonym of type is deprecated; in a future version of numpy, it will be understood as (type, (1,)) / '(1,)type'.\n",
            "  _np_qint8 = np.dtype([(\"qint8\", np.int8, 1)])\n",
            "/usr/local/lib/python3.6/dist-packages/tensorflow/python/framework/dtypes.py:524: FutureWarning: Passing (type, 1) or '1type' as a synonym of type is deprecated; in a future version of numpy, it will be understood as (type, (1,)) / '(1,)type'.\n",
            "  _np_quint8 = np.dtype([(\"quint8\", np.uint8, 1)])\n",
            "/usr/local/lib/python3.6/dist-packages/tensorflow/python/framework/dtypes.py:525: FutureWarning: Passing (type, 1) or '1type' as a synonym of type is deprecated; in a future version of numpy, it will be understood as (type, (1,)) / '(1,)type'.\n",
            "  _np_qint16 = np.dtype([(\"qint16\", np.int16, 1)])\n",
            "/usr/local/lib/python3.6/dist-packages/tensorflow/python/framework/dtypes.py:526: FutureWarning: Passing (type, 1) or '1type' as a synonym of type is deprecated; in a future version of numpy, it will be understood as (type, (1,)) / '(1,)type'.\n",
            "  _np_quint16 = np.dtype([(\"quint16\", np.uint16, 1)])\n",
            "/usr/local/lib/python3.6/dist-packages/tensorflow/python/framework/dtypes.py:527: FutureWarning: Passing (type, 1) or '1type' as a synonym of type is deprecated; in a future version of numpy, it will be understood as (type, (1,)) / '(1,)type'.\n",
            "  _np_qint32 = np.dtype([(\"qint32\", np.int32, 1)])\n",
            "/usr/local/lib/python3.6/dist-packages/tensorflow/python/framework/dtypes.py:532: FutureWarning: Passing (type, 1) or '1type' as a synonym of type is deprecated; in a future version of numpy, it will be understood as (type, (1,)) / '(1,)type'.\n",
            "  np_resource = np.dtype([(\"resource\", np.ubyte, 1)])\n",
            "Using cuda for inference.\n",
            "Reading video frames...\n",
            "Number of frames available for inference: 297\n",
            "Extracting raw audio...\n",
            "ffmpeg version 3.4.8-0ubuntu0.2 Copyright (c) 2000-2020 the FFmpeg developers\n",
            "  built with gcc 7 (Ubuntu 7.5.0-3ubuntu1~18.04)\n",
            "  configuration: --prefix=/usr --extra-version=0ubuntu0.2 --toolchain=hardened --libdir=/usr/lib/x86_64-linux-gnu --incdir=/usr/include/x86_64-linux-gnu --enable-gpl --disable-stripping --enable-avresample --enable-avisynth --enable-gnutls --enable-ladspa --enable-libass --enable-libbluray --enable-libbs2b --enable-libcaca --enable-libcdio --enable-libflite --enable-libfontconfig --enable-libfreetype --enable-libfribidi --enable-libgme --enable-libgsm --enable-libmp3lame --enable-libmysofa --enable-libopenjpeg --enable-libopenmpt --enable-libopus --enable-libpulse --enable-librubberband --enable-librsvg --enable-libshine --enable-libsnappy --enable-libsoxr --enable-libspeex --enable-libssh --enable-libtheora --enable-libtwolame --enable-libvorbis --enable-libvpx --enable-libwavpack --enable-libwebp --enable-libx265 --enable-libxml2 --enable-libxvid --enable-libzmq --enable-libzvbi --enable-omx --enable-openal --enable-opengl --enable-sdl2 --enable-libdc1394 --enable-libdrm --enable-libiec61883 --enable-chromaprint --enable-frei0r --enable-libopencv --enable-libx264 --enable-shared\n",
            "  libavutil      55. 78.100 / 55. 78.100\n",
            "  libavcodec     57.107.100 / 57.107.100\n",
            "  libavformat    57. 83.100 / 57. 83.100\n",
            "  libavdevice    57. 10.100 / 57. 10.100\n",
            "  libavfilter     6.107.100 /  6.107.100\n",
            "  libavresample   3.  7.  0 /  3.  7.  0\n",
            "  libswscale      4.  8.100 /  4.  8.100\n",
            "  libswresample   2.  9.100 /  2.  9.100\n",
            "  libpostproc    54.  7.100 / 54.  7.100\n",
            "Input #0, mp3, from '/content/sample_data/introduction_original_ar.mp3':\n",
            "  Duration: 00:00:13.08, start: 0.046042, bitrate: 59 kb/s\n",
            "    Stream #0:0: Audio: mp3, 24000 Hz, mono, s16p, 59 kb/s\n",
            "    Metadata:\n",
            "      encoder         : LAME3.100\n",
            "Stream mapping:\n",
            "  Stream #0:0 -> #0:0 (mp3 (native) -> pcm_s16le (native))\n",
            "Press [q] to stop, [?] for help\n",
            "Output #0, wav, to 'temp/temp.wav':\n",
            "  Metadata:\n",
            "    ISFT            : Lavf57.83.100\n",
            "    Stream #0:0: Audio: pcm_s16le ([1][0][0][0] / 0x0001), 24000 Hz, mono, s16, 384 kb/s\n",
            "    Metadata:\n",
            "      encoder         : Lavc57.107.100 pcm_s16le\n",
            "\u001b[0;36m[mp3 @ 0x556b12726a00] \u001b[0moverread, skip -7 enddists: -3 -3\n",
            "\u001b[0;36m[mp3 @ 0x556b12726a00] \u001b[0moverread, skip -6 enddists: -5 -5\n",
            "\u001b[0;36m[mp3 @ 0x556b12726a00] \u001b[0moverread, skip -6 enddists: -4 -4\n",
            "    Last message repeated 1 times\n",
            "\u001b[0;36m[mp3 @ 0x556b12726a00] \u001b[0moverread, skip -5 enddists: -2 -2\n",
            "\u001b[0;36m[mp3 @ 0x556b12726a00] \u001b[0moverread, skip -7 enddists: -5 -5\n",
            "\u001b[0;36m[mp3 @ 0x556b12726a00] \u001b[0moverread, skip -5 enddists: -3 -3\n",
            "\u001b[0;36m[mp3 @ 0x556b12726a00] \u001b[0moverread, skip -6 enddists: -1 -1\n",
            "size=     610kB time=00:00:13.01 bitrate= 384.0kbits/s speed= 601x    \n",
            "video:0kB audio:610kB subtitle:0kB other streams:0kB global headers:0kB muxing overhead: 0.012483%\n",
            "(80, 1042)\n",
            "Length of mel chunks: 387\n",
            "  0% 0/4 [00:00<?, ?it/s]\n",
            "  0% 0/19 [00:00<?, ?it/s]\u001b[ATHCudaCheck FAIL file=/pytorch/aten/src/THC/THCGeneral.cpp line=383 error=11 : invalid argument\n",
            "  0% 0/19 [00:00<?, ?it/s]\n",
            "Recovering from OOM error; New batch size: 8\n",
            "\n",
            "  0% 0/38 [00:00<?, ?it/s]\u001b[A\n",
            "  3% 1/38 [00:08<05:08,  8.33s/it]\u001b[A\n",
            "  5% 2/38 [00:09<03:42,  6.18s/it]\u001b[A\n",
            "  8% 3/38 [00:10<02:43,  4.68s/it]\u001b[A\n",
            " 11% 4/38 [00:11<02:03,  3.63s/it]\u001b[A\n",
            " 13% 5/38 [00:13<01:35,  2.90s/it]\u001b[A\n",
            " 16% 6/38 [00:14<01:16,  2.38s/it]\u001b[A\n",
            " 18% 7/38 [00:15<01:02,  2.03s/it]\u001b[A\n",
            " 21% 8/38 [00:16<00:53,  1.77s/it]\u001b[A\n",
            " 24% 9/38 [00:17<00:46,  1.60s/it]\u001b[A\n",
            " 26% 10/38 [00:19<00:41,  1.49s/it]\u001b[A\n",
            " 29% 11/38 [00:20<00:37,  1.40s/it]\u001b[A\n",
            " 32% 12/38 [00:21<00:34,  1.34s/it]\u001b[A\n",
            " 34% 13/38 [00:22<00:32,  1.30s/it]\u001b[A\n",
            " 37% 14/38 [00:23<00:30,  1.27s/it]\u001b[A\n",
            " 39% 15/38 [00:25<00:28,  1.25s/it]\u001b[A\n",
            " 42% 16/38 [00:26<00:27,  1.23s/it]\u001b[A\n",
            " 45% 17/38 [00:27<00:25,  1.23s/it]\u001b[A\n",
            " 47% 18/38 [00:28<00:24,  1.22s/it]\u001b[A\n",
            " 50% 19/38 [00:29<00:23,  1.21s/it]\u001b[A\n",
            " 53% 20/38 [00:31<00:21,  1.20s/it]\u001b[A\n",
            " 55% 21/38 [00:32<00:20,  1.20s/it]\u001b[A\n",
            " 58% 22/38 [00:33<00:19,  1.21s/it]\u001b[A\n",
            " 61% 23/38 [00:34<00:18,  1.21s/it]\u001b[A\n",
            " 63% 24/38 [00:35<00:16,  1.20s/it]\u001b[A\n",
            " 66% 25/38 [00:37<00:15,  1.20s/it]\u001b[A\n",
            " 68% 26/38 [00:38<00:14,  1.20s/it]\u001b[A\n",
            " 71% 27/38 [00:39<00:13,  1.21s/it]\u001b[A\n",
            " 74% 28/38 [00:40<00:12,  1.21s/it]\u001b[A\n",
            " 76% 29/38 [00:41<00:10,  1.21s/it]\u001b[A\n",
            " 79% 30/38 [00:43<00:09,  1.21s/it]\u001b[A\n",
            " 82% 31/38 [00:44<00:08,  1.21s/it]\u001b[A\n",
            " 84% 32/38 [00:45<00:07,  1.21s/it]\u001b[A\n",
            " 87% 33/38 [00:46<00:06,  1.21s/it]\u001b[A\n",
            " 89% 34/38 [00:47<00:04,  1.22s/it]\u001b[A\n",
            " 92% 35/38 [00:49<00:03,  1.22s/it]\u001b[A\n",
            " 95% 36/38 [00:50<00:02,  1.22s/it]\u001b[A\n",
            " 97% 37/38 [00:51<00:01,  1.22s/it]\u001b[A\n",
            "100% 38/38 [00:54<00:00,  1.44s/it]\n",
            "Load checkpoint from: checkpoints/wav2lip_gan.pth\n",
            "Model loaded\n",
            "100% 4/4 [01:20<00:00, 20.02s/it]\n",
            "ffmpeg version 3.4.8-0ubuntu0.2 Copyright (c) 2000-2020 the FFmpeg developers\n",
            "  built with gcc 7 (Ubuntu 7.5.0-3ubuntu1~18.04)\n",
            "  configuration: --prefix=/usr --extra-version=0ubuntu0.2 --toolchain=hardened --libdir=/usr/lib/x86_64-linux-gnu --incdir=/usr/include/x86_64-linux-gnu --enable-gpl --disable-stripping --enable-avresample --enable-avisynth --enable-gnutls --enable-ladspa --enable-libass --enable-libbluray --enable-libbs2b --enable-libcaca --enable-libcdio --enable-libflite --enable-libfontconfig --enable-libfreetype --enable-libfribidi --enable-libgme --enable-libgsm --enable-libmp3lame --enable-libmysofa --enable-libopenjpeg --enable-libopenmpt --enable-libopus --enable-libpulse --enable-librubberband --enable-librsvg --enable-libshine --enable-libsnappy --enable-libsoxr --enable-libspeex --enable-libssh --enable-libtheora --enable-libtwolame --enable-libvorbis --enable-libvpx --enable-libwavpack --enable-libwebp --enable-libx265 --enable-libxml2 --enable-libxvid --enable-libzmq --enable-libzvbi --enable-omx --enable-openal --enable-opengl --enable-sdl2 --enable-libdc1394 --enable-libdrm --enable-libiec61883 --enable-chromaprint --enable-frei0r --enable-libopencv --enable-libx264 --enable-shared\n",
            "  libavutil      55. 78.100 / 55. 78.100\n",
            "  libavcodec     57.107.100 / 57.107.100\n",
            "  libavformat    57. 83.100 / 57. 83.100\n",
            "  libavdevice    57. 10.100 / 57. 10.100\n",
            "  libavfilter     6.107.100 /  6.107.100\n",
            "  libavresample   3.  7.  0 /  3.  7.  0\n",
            "  libswscale      4.  8.100 /  4.  8.100\n",
            "  libswresample   2.  9.100 /  2.  9.100\n",
            "  libpostproc    54.  7.100 / 54.  7.100\n",
            "\u001b[0;33mGuessed Channel Layout for Input Stream #0.0 : mono\n",
            "\u001b[0mInput #0, wav, from 'temp/temp.wav':\n",
            "  Metadata:\n",
            "    encoder         : Lavf57.83.100\n",
            "  Duration: 00:00:13.02, bitrate: 384 kb/s\n",
            "    Stream #0:0: Audio: pcm_s16le ([1][0][0][0] / 0x0001), 24000 Hz, mono, s16, 384 kb/s\n",
            "Input #1, avi, from 'temp/result.avi':\n",
            "  Metadata:\n",
            "    encoder         : Lavf58.26.101\n",
            "  Duration: 00:00:12.90, start: 0.000000, bitrate: 5211 kb/s\n",
            "    Stream #1:0: Video: mpeg4 (Simple Profile) (DIVX / 0x58564944), yuv420p, 1280x720 [SAR 1:1 DAR 16:9], 5215 kb/s, 30 fps, 30 tbr, 30 tbn, 30 tbc\n",
            "Stream mapping:\n",
            "  Stream #1:0 -> #0:0 (mpeg4 (native) -> h264 (libx264))\n",
            "  Stream #0:0 -> #0:1 (pcm_s16le (native) -> aac (native))\n",
            "Press [q] to stop, [?] for help\n",
            "\u001b[1;36m[libx264 @ 0x56532995ed00] \u001b[0m\u001b[0;33m-qscale is ignored, -crf is recommended.\n",
            "\u001b[0m\u001b[1;36m[libx264 @ 0x56532995ed00] \u001b[0musing SAR=1/1\n",
            "\u001b[1;36m[libx264 @ 0x56532995ed00] \u001b[0musing cpu capabilities: MMX2 SSE2Fast SSSE3 SSE4.2 AVX FMA3 BMI2 AVX2\n",
            "\u001b[1;36m[libx264 @ 0x56532995ed00] \u001b[0mprofile High, level 3.1\n",
            "\u001b[1;36m[libx264 @ 0x56532995ed00] \u001b[0m264 - core 152 r2854 e9a5903 - H.264/MPEG-4 AVC codec - Copyleft 2003-2017 - http://www.videolan.org/x264.html - options: cabac=1 ref=3 deblock=1:0:0 analyse=0x3:0x113 me=hex subme=7 psy=1 psy_rd=1.00:0.00 mixed_ref=1 me_range=16 chroma_me=1 trellis=1 8x8dct=1 cqm=0 deadzone=21,11 fast_pskip=1 chroma_qp_offset=-2 threads=3 lookahead_threads=1 sliced_threads=0 nr=0 decimate=1 interlaced=0 bluray_compat=0 constrained_intra=0 bframes=3 b_pyramid=2 b_adapt=1 b_bias=0 direct=1 weightb=1 open_gop=0 weightp=2 keyint=250 keyint_min=25 scenecut=40 intra_refresh=0 rc_lookahead=40 rc=crf mbtree=1 crf=23.0 qcomp=0.60 qpmin=0 qpmax=69 qpstep=4 ip_ratio=1.40 aq=1:1.00\n",
            "Output #0, mp4, to 'results/result_voice.mp4':\n",
            "  Metadata:\n",
            "    encoder         : Lavf57.83.100\n",
            "    Stream #0:0: Video: h264 (libx264) (avc1 / 0x31637661), yuv420p(progressive), 1280x720 [SAR 1:1 DAR 16:9], q=-1--1, 30 fps, 15360 tbn, 30 tbc\n",
            "    Metadata:\n",
            "      encoder         : Lavc57.107.100 libx264\n",
            "    Side data:\n",
            "      cpb: bitrate max/min/avg: 0/0/0 buffer size: 0 vbv_delay: -1\n",
            "    Stream #0:1: Audio: aac (LC) (mp4a / 0x6134706D), 24000 Hz, mono, fltp, 69 kb/s\n",
            "    Metadata:\n",
            "      encoder         : Lavc57.107.100 aac\n",
            "frame=  387 fps= 14 q=-1.0 Lsize=    4719kB time=00:00:13.05 bitrate=2961.1kbits/s speed=0.488x    \n",
            "video:4601kB audio:109kB subtitle:0kB other streams:0kB global headers:0kB muxing overhead: 0.198844%\n",
            "\u001b[1;36m[libx264 @ 0x56532995ed00] \u001b[0mframe I:2     Avg QP:21.66  size: 30118\n",
            "\u001b[1;36m[libx264 @ 0x56532995ed00] \u001b[0mframe P:318   Avg QP:23.20  size: 12994\n",
            "\u001b[1;36m[libx264 @ 0x56532995ed00] \u001b[0mframe B:67    Avg QP:24.61  size:  7733\n",
            "\u001b[1;36m[libx264 @ 0x56532995ed00] \u001b[0mconsecutive B-frames: 73.1%  6.2% 15.5%  5.2%\n",
            "\u001b[1;36m[libx264 @ 0x56532995ed00] \u001b[0mmb I  I16..4: 16.5% 80.8%  2.7%\n",
            "\u001b[1;36m[libx264 @ 0x56532995ed00] \u001b[0mmb P  I16..4:  1.8% 18.9%  0.0%  P16..4: 53.1%  5.9%  3.9%  0.0%  0.0%    skip:16.3%\n",
            "\u001b[1;36m[libx264 @ 0x56532995ed00] \u001b[0mmb B  I16..4:  1.5% 15.4%  0.0%  B16..8: 33.1%  2.1%  0.3%  direct: 2.7%  skip:45.0%  L0:56.9% L1:40.7% BI: 2.4%\n",
            "\u001b[1;36m[libx264 @ 0x56532995ed00] \u001b[0m8x8 transform intra:90.9% inter:88.7%\n",
            "\u001b[1;36m[libx264 @ 0x56532995ed00] \u001b[0mcoded y,uvDC,uvAC intra: 61.1% 77.2% 1.4% inter: 22.3% 37.2% 0.0%\n",
            "\u001b[1;36m[libx264 @ 0x56532995ed00] \u001b[0mi16 v,h,dc,p: 18% 20% 40% 23%\n",
            "\u001b[1;36m[libx264 @ 0x56532995ed00] \u001b[0mi8 v,h,dc,ddl,ddr,vr,hd,vl,hu: 19% 20% 55%  2%  1%  1%  1%  1%  1%\n",
            "\u001b[1;36m[libx264 @ 0x56532995ed00] \u001b[0mi4 v,h,dc,ddl,ddr,vr,hd,vl,hu: 33% 21% 14%  6%  6%  5%  5%  6%  4%\n",
            "\u001b[1;36m[libx264 @ 0x56532995ed00] \u001b[0mi8c dc,h,v,p: 52% 26% 20%  2%\n",
            "\u001b[1;36m[libx264 @ 0x56532995ed00] \u001b[0mWeighted P-Frames: Y:0.0% UV:0.0%\n",
            "\u001b[1;36m[libx264 @ 0x56532995ed00] \u001b[0mref P L0: 76.1%  8.3% 11.2%  4.3%\n",
            "\u001b[1;36m[libx264 @ 0x56532995ed00] \u001b[0mref B L0: 88.0%  9.5%  2.5%\n",
            "\u001b[1;36m[libx264 @ 0x56532995ed00] \u001b[0mref B L1: 98.7%  1.3%\n",
            "\u001b[1;36m[libx264 @ 0x56532995ed00] \u001b[0mkb/s:2921.15\n",
            "\u001b[1;36m[aac @ 0x565329a78000] \u001b[0mQavg: 5332.205\n"
          ],
          "name": "stdout"
        }
      ]
    },
    {
      "cell_type": "code",
      "metadata": {
        "id": "uNOAZvkszEOw"
      },
      "source": [
        "# use the \"files\" button on the left to download the result in the Wav2Lip/results/ folder."
      ],
      "execution_count": null,
      "outputs": []
    },
    {
      "cell_type": "markdown",
      "metadata": {
        "id": "d7zgfrQqbKom"
      },
      "source": [
        "## **Variations to try**\n"
      ]
    },
    {
      "cell_type": "markdown",
      "metadata": {
        "id": "0f9A9VDVbZAG"
      },
      "source": [
        "1.   Use more padding to include the chin region"
      ]
    },
    {
      "cell_type": "code",
      "metadata": {
        "id": "45XW4SZAzIz5",
        "colab": {
          "base_uri": "https://localhost:8080/"
        },
        "outputId": "1ea30aaa-d31c-4c9d-dc15-e079a49a19f1"
      },
      "source": [
        "!cd Wav2Lip && python inference.py --checkpoint_path checkpoints/wav2lip_gan.pth --face \"../sample_data/on_the_phone_quiet.mov\" --audio \"/content/sample_data/introduction_original_zh-cn.mp3\" --pads 0 20 0 0"
      ],
      "execution_count": 16,
      "outputs": [
        {
          "output_type": "stream",
          "text": [
            "/usr/local/lib/python3.6/dist-packages/tensorflow/python/framework/dtypes.py:523: FutureWarning: Passing (type, 1) or '1type' as a synonym of type is deprecated; in a future version of numpy, it will be understood as (type, (1,)) / '(1,)type'.\n",
            "  _np_qint8 = np.dtype([(\"qint8\", np.int8, 1)])\n",
            "/usr/local/lib/python3.6/dist-packages/tensorflow/python/framework/dtypes.py:524: FutureWarning: Passing (type, 1) or '1type' as a synonym of type is deprecated; in a future version of numpy, it will be understood as (type, (1,)) / '(1,)type'.\n",
            "  _np_quint8 = np.dtype([(\"quint8\", np.uint8, 1)])\n",
            "/usr/local/lib/python3.6/dist-packages/tensorflow/python/framework/dtypes.py:525: FutureWarning: Passing (type, 1) or '1type' as a synonym of type is deprecated; in a future version of numpy, it will be understood as (type, (1,)) / '(1,)type'.\n",
            "  _np_qint16 = np.dtype([(\"qint16\", np.int16, 1)])\n",
            "/usr/local/lib/python3.6/dist-packages/tensorflow/python/framework/dtypes.py:526: FutureWarning: Passing (type, 1) or '1type' as a synonym of type is deprecated; in a future version of numpy, it will be understood as (type, (1,)) / '(1,)type'.\n",
            "  _np_quint16 = np.dtype([(\"quint16\", np.uint16, 1)])\n",
            "/usr/local/lib/python3.6/dist-packages/tensorflow/python/framework/dtypes.py:527: FutureWarning: Passing (type, 1) or '1type' as a synonym of type is deprecated; in a future version of numpy, it will be understood as (type, (1,)) / '(1,)type'.\n",
            "  _np_qint32 = np.dtype([(\"qint32\", np.int32, 1)])\n",
            "/usr/local/lib/python3.6/dist-packages/tensorflow/python/framework/dtypes.py:532: FutureWarning: Passing (type, 1) or '1type' as a synonym of type is deprecated; in a future version of numpy, it will be understood as (type, (1,)) / '(1,)type'.\n",
            "  np_resource = np.dtype([(\"resource\", np.ubyte, 1)])\n",
            "Using cuda for inference.\n",
            "Reading video frames...\n",
            "Number of frames available for inference: 297\n",
            "Extracting raw audio...\n",
            "ffmpeg version 3.4.8-0ubuntu0.2 Copyright (c) 2000-2020 the FFmpeg developers\n",
            "  built with gcc 7 (Ubuntu 7.5.0-3ubuntu1~18.04)\n",
            "  configuration: --prefix=/usr --extra-version=0ubuntu0.2 --toolchain=hardened --libdir=/usr/lib/x86_64-linux-gnu --incdir=/usr/include/x86_64-linux-gnu --enable-gpl --disable-stripping --enable-avresample --enable-avisynth --enable-gnutls --enable-ladspa --enable-libass --enable-libbluray --enable-libbs2b --enable-libcaca --enable-libcdio --enable-libflite --enable-libfontconfig --enable-libfreetype --enable-libfribidi --enable-libgme --enable-libgsm --enable-libmp3lame --enable-libmysofa --enable-libopenjpeg --enable-libopenmpt --enable-libopus --enable-libpulse --enable-librubberband --enable-librsvg --enable-libshine --enable-libsnappy --enable-libsoxr --enable-libspeex --enable-libssh --enable-libtheora --enable-libtwolame --enable-libvorbis --enable-libvpx --enable-libwavpack --enable-libwebp --enable-libx265 --enable-libxml2 --enable-libxvid --enable-libzmq --enable-libzvbi --enable-omx --enable-openal --enable-opengl --enable-sdl2 --enable-libdc1394 --enable-libdrm --enable-libiec61883 --enable-chromaprint --enable-frei0r --enable-libopencv --enable-libx264 --enable-shared\n",
            "  libavutil      55. 78.100 / 55. 78.100\n",
            "  libavcodec     57.107.100 / 57.107.100\n",
            "  libavformat    57. 83.100 / 57. 83.100\n",
            "  libavdevice    57. 10.100 / 57. 10.100\n",
            "  libavfilter     6.107.100 /  6.107.100\n",
            "  libavresample   3.  7.  0 /  3.  7.  0\n",
            "  libswscale      4.  8.100 /  4.  8.100\n",
            "  libswresample   2.  9.100 /  2.  9.100\n",
            "  libpostproc    54.  7.100 / 54.  7.100\n",
            "Input #0, mp3, from '/content/sample_data/introduction_original_zh-cn.mp3':\n",
            "  Duration: 00:00:08.74, start: 0.046042, bitrate: 71 kb/s\n",
            "    Stream #0:0: Audio: mp3, 24000 Hz, mono, s16p, 71 kb/s\n",
            "    Metadata:\n",
            "      encoder         : LAME3.100\n",
            "Stream mapping:\n",
            "  Stream #0:0 -> #0:0 (mp3 (native) -> pcm_s16le (native))\n",
            "Press [q] to stop, [?] for help\n",
            "Output #0, wav, to 'temp/temp.wav':\n",
            "  Metadata:\n",
            "    ISFT            : Lavf57.83.100\n",
            "    Stream #0:0: Audio: pcm_s16le ([1][0][0][0] / 0x0001), 24000 Hz, mono, s16, 384 kb/s\n",
            "    Metadata:\n",
            "      encoder         : Lavc57.107.100 pcm_s16le\n",
            "size=     406kB time=00:00:08.66 bitrate= 384.1kbits/s speed= 987x    \n",
            "video:0kB audio:406kB subtitle:0kB other streams:0kB global headers:0kB muxing overhead: 0.018752%\n",
            "(80, 694)\n",
            "Length of mel chunks: 256\n",
            "  0% 0/2 [00:00<?, ?it/s]\n",
            "  0% 0/16 [00:00<?, ?it/s]\u001b[ATHCudaCheck FAIL file=/pytorch/aten/src/THC/THCGeneral.cpp line=383 error=11 : invalid argument\n",
            "  0% 0/16 [00:00<?, ?it/s]\n",
            "Recovering from OOM error; New batch size: 8\n",
            "\n",
            "  0% 0/32 [00:00<?, ?it/s]\u001b[A\n",
            "  3% 1/32 [00:08<04:24,  8.52s/it]\u001b[A\n",
            "  6% 2/32 [00:09<03:09,  6.32s/it]\u001b[A\n",
            "  9% 3/32 [00:10<02:18,  4.78s/it]\u001b[A\n",
            " 12% 4/32 [00:12<01:43,  3.71s/it]\u001b[A\n",
            " 16% 5/32 [00:13<01:19,  2.95s/it]\u001b[A\n",
            " 19% 6/32 [00:14<01:03,  2.43s/it]\u001b[A\n",
            " 22% 7/32 [00:15<00:51,  2.06s/it]\u001b[A\n",
            " 25% 8/32 [00:16<00:43,  1.80s/it]\u001b[A\n",
            " 28% 9/32 [00:18<00:37,  1.63s/it]\u001b[A\n",
            " 31% 10/32 [00:19<00:33,  1.51s/it]\u001b[A\n",
            " 34% 11/32 [00:20<00:29,  1.42s/it]\u001b[A\n",
            " 38% 12/32 [00:21<00:27,  1.36s/it]\u001b[A\n",
            " 41% 13/32 [00:23<00:25,  1.32s/it]\u001b[A\n",
            " 44% 14/32 [00:24<00:23,  1.29s/it]\u001b[A\n",
            " 47% 15/32 [00:25<00:21,  1.27s/it]\u001b[A\n",
            " 50% 16/32 [00:26<00:20,  1.25s/it]\u001b[A\n",
            " 53% 17/32 [00:27<00:18,  1.25s/it]\u001b[A\n",
            " 56% 18/32 [00:29<00:17,  1.24s/it]\u001b[A\n",
            " 59% 19/32 [00:30<00:16,  1.23s/it]\u001b[A\n",
            " 62% 20/32 [00:31<00:14,  1.23s/it]\u001b[A\n",
            " 66% 21/32 [00:32<00:13,  1.22s/it]\u001b[A\n",
            " 69% 22/32 [00:33<00:12,  1.22s/it]\u001b[A\n",
            " 72% 23/32 [00:35<00:11,  1.22s/it]\u001b[A\n",
            " 75% 24/32 [00:36<00:09,  1.22s/it]\u001b[A\n",
            " 78% 25/32 [00:37<00:08,  1.22s/it]\u001b[A\n",
            " 81% 26/32 [00:38<00:07,  1.22s/it]\u001b[A\n",
            " 84% 27/32 [00:40<00:06,  1.23s/it]\u001b[A\n",
            " 88% 28/32 [00:41<00:04,  1.23s/it]\u001b[A\n",
            " 91% 29/32 [00:42<00:03,  1.23s/it]\u001b[A\n",
            " 94% 30/32 [00:43<00:02,  1.23s/it]\u001b[A\n",
            " 97% 31/32 [00:45<00:01,  1.23s/it]\u001b[A\n",
            "100% 32/32 [00:46<00:00,  1.45s/it]\n",
            "Load checkpoint from: checkpoints/wav2lip_gan.pth\n",
            "Model loaded\n",
            "100% 2/2 [00:57<00:00, 28.72s/it]\n",
            "ffmpeg version 3.4.8-0ubuntu0.2 Copyright (c) 2000-2020 the FFmpeg developers\n",
            "  built with gcc 7 (Ubuntu 7.5.0-3ubuntu1~18.04)\n",
            "  configuration: --prefix=/usr --extra-version=0ubuntu0.2 --toolchain=hardened --libdir=/usr/lib/x86_64-linux-gnu --incdir=/usr/include/x86_64-linux-gnu --enable-gpl --disable-stripping --enable-avresample --enable-avisynth --enable-gnutls --enable-ladspa --enable-libass --enable-libbluray --enable-libbs2b --enable-libcaca --enable-libcdio --enable-libflite --enable-libfontconfig --enable-libfreetype --enable-libfribidi --enable-libgme --enable-libgsm --enable-libmp3lame --enable-libmysofa --enable-libopenjpeg --enable-libopenmpt --enable-libopus --enable-libpulse --enable-librubberband --enable-librsvg --enable-libshine --enable-libsnappy --enable-libsoxr --enable-libspeex --enable-libssh --enable-libtheora --enable-libtwolame --enable-libvorbis --enable-libvpx --enable-libwavpack --enable-libwebp --enable-libx265 --enable-libxml2 --enable-libxvid --enable-libzmq --enable-libzvbi --enable-omx --enable-openal --enable-opengl --enable-sdl2 --enable-libdc1394 --enable-libdrm --enable-libiec61883 --enable-chromaprint --enable-frei0r --enable-libopencv --enable-libx264 --enable-shared\n",
            "  libavutil      55. 78.100 / 55. 78.100\n",
            "  libavcodec     57.107.100 / 57.107.100\n",
            "  libavformat    57. 83.100 / 57. 83.100\n",
            "  libavdevice    57. 10.100 / 57. 10.100\n",
            "  libavfilter     6.107.100 /  6.107.100\n",
            "  libavresample   3.  7.  0 /  3.  7.  0\n",
            "  libswscale      4.  8.100 /  4.  8.100\n",
            "  libswresample   2.  9.100 /  2.  9.100\n",
            "  libpostproc    54.  7.100 / 54.  7.100\n",
            "\u001b[0;33mGuessed Channel Layout for Input Stream #0.0 : mono\n",
            "\u001b[0mInput #0, wav, from 'temp/temp.wav':\n",
            "  Metadata:\n",
            "    encoder         : Lavf57.83.100\n",
            "  Duration: 00:00:08.67, bitrate: 384 kb/s\n",
            "    Stream #0:0: Audio: pcm_s16le ([1][0][0][0] / 0x0001), 24000 Hz, mono, s16, 384 kb/s\n",
            "Input #1, avi, from 'temp/result.avi':\n",
            "  Metadata:\n",
            "    encoder         : Lavf58.26.101\n",
            "  Duration: 00:00:08.53, start: 0.000000, bitrate: 5167 kb/s\n",
            "    Stream #1:0: Video: mpeg4 (Simple Profile) (DIVX / 0x58564944), yuv420p, 1280x720 [SAR 1:1 DAR 16:9], 5176 kb/s, 30 fps, 30 tbr, 30 tbn, 30 tbc\n",
            "Stream mapping:\n",
            "  Stream #1:0 -> #0:0 (mpeg4 (native) -> h264 (libx264))\n",
            "  Stream #0:0 -> #0:1 (pcm_s16le (native) -> aac (native))\n",
            "Press [q] to stop, [?] for help\n",
            "\u001b[1;36m[libx264 @ 0x55a073960d00] \u001b[0m\u001b[0;33m-qscale is ignored, -crf is recommended.\n",
            "\u001b[0m\u001b[1;36m[libx264 @ 0x55a073960d00] \u001b[0musing SAR=1/1\n",
            "\u001b[1;36m[libx264 @ 0x55a073960d00] \u001b[0musing cpu capabilities: MMX2 SSE2Fast SSSE3 SSE4.2 AVX FMA3 BMI2 AVX2\n",
            "\u001b[1;36m[libx264 @ 0x55a073960d00] \u001b[0mprofile High, level 3.1\n",
            "\u001b[1;36m[libx264 @ 0x55a073960d00] \u001b[0m264 - core 152 r2854 e9a5903 - H.264/MPEG-4 AVC codec - Copyleft 2003-2017 - http://www.videolan.org/x264.html - options: cabac=1 ref=3 deblock=1:0:0 analyse=0x3:0x113 me=hex subme=7 psy=1 psy_rd=1.00:0.00 mixed_ref=1 me_range=16 chroma_me=1 trellis=1 8x8dct=1 cqm=0 deadzone=21,11 fast_pskip=1 chroma_qp_offset=-2 threads=3 lookahead_threads=1 sliced_threads=0 nr=0 decimate=1 interlaced=0 bluray_compat=0 constrained_intra=0 bframes=3 b_pyramid=2 b_adapt=1 b_bias=0 direct=1 weightb=1 open_gop=0 weightp=2 keyint=250 keyint_min=25 scenecut=40 intra_refresh=0 rc_lookahead=40 rc=crf mbtree=1 crf=23.0 qcomp=0.60 qpmin=0 qpmax=69 qpstep=4 ip_ratio=1.40 aq=1:1.00\n",
            "Output #0, mp4, to 'results/result_voice.mp4':\n",
            "  Metadata:\n",
            "    encoder         : Lavf57.83.100\n",
            "    Stream #0:0: Video: h264 (libx264) (avc1 / 0x31637661), yuv420p(progressive), 1280x720 [SAR 1:1 DAR 16:9], q=-1--1, 30 fps, 15360 tbn, 30 tbc\n",
            "    Metadata:\n",
            "      encoder         : Lavc57.107.100 libx264\n",
            "    Side data:\n",
            "      cpb: bitrate max/min/avg: 0/0/0 buffer size: 0 vbv_delay: -1\n",
            "    Stream #0:1: Audio: aac (LC) (mp4a / 0x6134706D), 24000 Hz, mono, fltp, 69 kb/s\n",
            "    Metadata:\n",
            "      encoder         : Lavc57.107.100 aac\n",
            "frame=  256 fps= 14 q=-1.0 Lsize=    3079kB time=00:00:08.70 bitrate=2898.1kbits/s speed=0.491x    \n",
            "video:2996kB audio:77kB subtitle:0kB other streams:0kB global headers:0kB muxing overhead: 0.218609%\n",
            "\u001b[1;36m[libx264 @ 0x55a073960d00] \u001b[0mframe I:2     Avg QP:21.78  size: 29193\n",
            "\u001b[1;36m[libx264 @ 0x55a073960d00] \u001b[0mframe P:203   Avg QP:23.17  size: 12824\n",
            "\u001b[1;36m[libx264 @ 0x55a073960d00] \u001b[0mframe B:51    Avg QP:24.64  size:  7952\n",
            "\u001b[1;36m[libx264 @ 0x55a073960d00] \u001b[0mconsecutive B-frames: 69.9%  3.9% 19.9%  6.2%\n",
            "\u001b[1;36m[libx264 @ 0x55a073960d00] \u001b[0mmb I  I16..4: 16.2% 81.1%  2.7%\n",
            "\u001b[1;36m[libx264 @ 0x55a073960d00] \u001b[0mmb P  I16..4:  1.8% 18.0%  0.0%  P16..4: 53.4%  6.0%  4.0%  0.0%  0.0%    skip:16.8%\n",
            "\u001b[1;36m[libx264 @ 0x55a073960d00] \u001b[0mmb B  I16..4:  1.6% 16.6%  0.0%  B16..8: 32.0%  2.1%  0.3%  direct: 2.6%  skip:44.9%  L0:53.3% L1:44.2% BI: 2.5%\n",
            "\u001b[1;36m[libx264 @ 0x55a073960d00] \u001b[0m8x8 transform intra:90.5% inter:88.8%\n",
            "\u001b[1;36m[libx264 @ 0x55a073960d00] \u001b[0mcoded y,uvDC,uvAC intra: 60.5% 77.3% 1.4% inter: 22.0% 36.9% 0.0%\n",
            "\u001b[1;36m[libx264 @ 0x55a073960d00] \u001b[0mi16 v,h,dc,p: 17% 20% 39% 24%\n",
            "\u001b[1;36m[libx264 @ 0x55a073960d00] \u001b[0mi8 v,h,dc,ddl,ddr,vr,hd,vl,hu: 19% 19% 56%  2%  1%  1%  1%  1%  1%\n",
            "\u001b[1;36m[libx264 @ 0x55a073960d00] \u001b[0mi4 v,h,dc,ddl,ddr,vr,hd,vl,hu: 32% 21% 14%  7%  7%  5%  5%  5%  4%\n",
            "\u001b[1;36m[libx264 @ 0x55a073960d00] \u001b[0mi8c dc,h,v,p: 52% 26% 20%  2%\n",
            "\u001b[1;36m[libx264 @ 0x55a073960d00] \u001b[0mWeighted P-Frames: Y:0.0% UV:0.0%\n",
            "\u001b[1;36m[libx264 @ 0x55a073960d00] \u001b[0mref P L0: 75.9%  8.2% 11.4%  4.5%\n",
            "\u001b[1;36m[libx264 @ 0x55a073960d00] \u001b[0mref B L0: 88.0%  8.8%  3.2%\n",
            "\u001b[1;36m[libx264 @ 0x55a073960d00] \u001b[0mref B L1: 98.7%  1.3%\n",
            "\u001b[1;36m[libx264 @ 0x55a073960d00] \u001b[0mkb/s:2875.52\n",
            "\u001b[1;36m[aac @ 0x55a073a56000] \u001b[0mQavg: 6504.916\n"
          ],
          "name": "stdout"
        }
      ]
    },
    {
      "cell_type": "markdown",
      "metadata": {
        "id": "uo-WnsxfbwTG"
      },
      "source": [
        "2.   Use resize_factor to reduce the video resolution, as there is a change you might get better results for lower resolution videos. Why? Because the model was trained on low resolution faces."
      ]
    },
    {
      "cell_type": "code",
      "metadata": {
        "id": "xw0xFtZ2bsx8",
        "colab": {
          "base_uri": "https://localhost:8080/"
        },
        "outputId": "fb90a8c4-f164-48d6-f609-4f09aaf1abc7"
      },
      "source": [
        "!cd Wav2Lip && python inference.py --checkpoint_path checkpoints/wav2lip_gan.pth --face \"../sample_data/on_the_phone_quiet.mov\" --audio \"/content/sample_data/introduction_original_ja.mp3\" --resize_factor 2"
      ],
      "execution_count": 17,
      "outputs": [
        {
          "output_type": "stream",
          "text": [
            "/usr/local/lib/python3.6/dist-packages/tensorflow/python/framework/dtypes.py:523: FutureWarning: Passing (type, 1) or '1type' as a synonym of type is deprecated; in a future version of numpy, it will be understood as (type, (1,)) / '(1,)type'.\n",
            "  _np_qint8 = np.dtype([(\"qint8\", np.int8, 1)])\n",
            "/usr/local/lib/python3.6/dist-packages/tensorflow/python/framework/dtypes.py:524: FutureWarning: Passing (type, 1) or '1type' as a synonym of type is deprecated; in a future version of numpy, it will be understood as (type, (1,)) / '(1,)type'.\n",
            "  _np_quint8 = np.dtype([(\"quint8\", np.uint8, 1)])\n",
            "/usr/local/lib/python3.6/dist-packages/tensorflow/python/framework/dtypes.py:525: FutureWarning: Passing (type, 1) or '1type' as a synonym of type is deprecated; in a future version of numpy, it will be understood as (type, (1,)) / '(1,)type'.\n",
            "  _np_qint16 = np.dtype([(\"qint16\", np.int16, 1)])\n",
            "/usr/local/lib/python3.6/dist-packages/tensorflow/python/framework/dtypes.py:526: FutureWarning: Passing (type, 1) or '1type' as a synonym of type is deprecated; in a future version of numpy, it will be understood as (type, (1,)) / '(1,)type'.\n",
            "  _np_quint16 = np.dtype([(\"quint16\", np.uint16, 1)])\n",
            "/usr/local/lib/python3.6/dist-packages/tensorflow/python/framework/dtypes.py:527: FutureWarning: Passing (type, 1) or '1type' as a synonym of type is deprecated; in a future version of numpy, it will be understood as (type, (1,)) / '(1,)type'.\n",
            "  _np_qint32 = np.dtype([(\"qint32\", np.int32, 1)])\n",
            "/usr/local/lib/python3.6/dist-packages/tensorflow/python/framework/dtypes.py:532: FutureWarning: Passing (type, 1) or '1type' as a synonym of type is deprecated; in a future version of numpy, it will be understood as (type, (1,)) / '(1,)type'.\n",
            "  np_resource = np.dtype([(\"resource\", np.ubyte, 1)])\n",
            "Using cuda for inference.\n",
            "Reading video frames...\n",
            "Number of frames available for inference: 297\n",
            "Extracting raw audio...\n",
            "ffmpeg version 3.4.8-0ubuntu0.2 Copyright (c) 2000-2020 the FFmpeg developers\n",
            "  built with gcc 7 (Ubuntu 7.5.0-3ubuntu1~18.04)\n",
            "  configuration: --prefix=/usr --extra-version=0ubuntu0.2 --toolchain=hardened --libdir=/usr/lib/x86_64-linux-gnu --incdir=/usr/include/x86_64-linux-gnu --enable-gpl --disable-stripping --enable-avresample --enable-avisynth --enable-gnutls --enable-ladspa --enable-libass --enable-libbluray --enable-libbs2b --enable-libcaca --enable-libcdio --enable-libflite --enable-libfontconfig --enable-libfreetype --enable-libfribidi --enable-libgme --enable-libgsm --enable-libmp3lame --enable-libmysofa --enable-libopenjpeg --enable-libopenmpt --enable-libopus --enable-libpulse --enable-librubberband --enable-librsvg --enable-libshine --enable-libsnappy --enable-libsoxr --enable-libspeex --enable-libssh --enable-libtheora --enable-libtwolame --enable-libvorbis --enable-libvpx --enable-libwavpack --enable-libwebp --enable-libx265 --enable-libxml2 --enable-libxvid --enable-libzmq --enable-libzvbi --enable-omx --enable-openal --enable-opengl --enable-sdl2 --enable-libdc1394 --enable-libdrm --enable-libiec61883 --enable-chromaprint --enable-frei0r --enable-libopencv --enable-libx264 --enable-shared\n",
            "  libavutil      55. 78.100 / 55. 78.100\n",
            "  libavcodec     57.107.100 / 57.107.100\n",
            "  libavformat    57. 83.100 / 57. 83.100\n",
            "  libavdevice    57. 10.100 / 57. 10.100\n",
            "  libavfilter     6.107.100 /  6.107.100\n",
            "  libavresample   3.  7.  0 /  3.  7.  0\n",
            "  libswscale      4.  8.100 /  4.  8.100\n",
            "  libswresample   2.  9.100 /  2.  9.100\n",
            "  libpostproc    54.  7.100 / 54.  7.100\n",
            "Input #0, mp3, from '/content/sample_data/introduction_original_ja.mp3':\n",
            "  Duration: 00:00:11.42, start: 0.046042, bitrate: 65 kb/s\n",
            "    Stream #0:0: Audio: mp3, 24000 Hz, mono, s16p, 65 kb/s\n",
            "    Metadata:\n",
            "      encoder         : LAME3.100\n",
            "Stream mapping:\n",
            "  Stream #0:0 -> #0:0 (mp3 (native) -> pcm_s16le (native))\n",
            "Press [q] to stop, [?] for help\n",
            "Output #0, wav, to 'temp/temp.wav':\n",
            "  Metadata:\n",
            "    ISFT            : Lavf57.83.100\n",
            "    Stream #0:0: Audio: pcm_s16le ([1][0][0][0] / 0x0001), 24000 Hz, mono, s16, 384 kb/s\n",
            "    Metadata:\n",
            "      encoder         : Lavc57.107.100 pcm_s16le\n",
            "\u001b[0;36m[mp3 @ 0x55c9ba55ea00] \u001b[0moverread, skip -5 enddists: -2 -2\n",
            "\u001b[0;36m[mp3 @ 0x55c9ba55ea00] \u001b[0moverread, skip -7 enddists: -3 -3\n",
            "\u001b[0;36m[mp3 @ 0x55c9ba55ea00] \u001b[0moverread, skip -6 enddists: -1 -1\n",
            "\u001b[0;36m[mp3 @ 0x55c9ba55ea00] \u001b[0moverread, skip -5 enddists: -2 -2\n",
            "size=     532kB time=00:00:11.35 bitrate= 384.1kbits/s speed= 992x    \n",
            "video:0kB audio:532kB subtitle:0kB other streams:0kB global headers:0kB muxing overhead: 0.014313%\n",
            "(80, 909)\n",
            "Length of mel chunks: 337\n",
            "  0% 0/3 [00:00<?, ?it/s]\n",
            "  0% 0/19 [00:00<?, ?it/s]\u001b[ATHCudaCheck FAIL file=/pytorch/aten/src/THC/THCGeneral.cpp line=383 error=11 : invalid argument\n",
            "  0% 0/19 [00:00<?, ?it/s]\n",
            "Recovering from OOM error; New batch size: 8\n",
            "\n",
            "  0% 0/38 [00:00<?, ?it/s]\u001b[A\n",
            "  3% 1/38 [00:02<01:49,  2.96s/it]\u001b[A\n",
            "  5% 2/38 [00:03<01:18,  2.17s/it]\u001b[A\n",
            "  8% 3/38 [00:03<00:56,  1.62s/it]\u001b[A\n",
            " 11% 4/38 [00:03<00:41,  1.23s/it]\u001b[A\n",
            " 13% 5/38 [00:04<00:31,  1.04it/s]\u001b[A\n",
            " 16% 6/38 [00:04<00:24,  1.29it/s]\u001b[A\n",
            " 18% 7/38 [00:04<00:19,  1.56it/s]\u001b[A\n",
            " 21% 8/38 [00:05<00:16,  1.81it/s]\u001b[A\n",
            " 24% 9/38 [00:05<00:14,  2.04it/s]\u001b[A\n",
            " 26% 10/38 [00:05<00:12,  2.24it/s]\u001b[A\n",
            " 29% 11/38 [00:06<00:11,  2.41it/s]\u001b[A\n",
            " 32% 12/38 [00:06<00:10,  2.58it/s]\u001b[A\n",
            " 34% 13/38 [00:06<00:09,  2.67it/s]\u001b[A\n",
            " 37% 14/38 [00:07<00:08,  2.77it/s]\u001b[A\n",
            " 39% 15/38 [00:07<00:08,  2.80it/s]\u001b[A\n",
            " 42% 16/38 [00:08<00:07,  2.87it/s]\u001b[A\n",
            " 45% 17/38 [00:08<00:07,  2.93it/s]\u001b[A\n",
            " 47% 18/38 [00:08<00:06,  2.98it/s]\u001b[A\n",
            " 50% 19/38 [00:08<00:06,  3.03it/s]\u001b[A\n",
            " 53% 20/38 [00:09<00:05,  3.04it/s]\u001b[A\n",
            " 55% 21/38 [00:09<00:05,  3.04it/s]\u001b[A\n",
            " 58% 22/38 [00:09<00:05,  3.08it/s]\u001b[A\n",
            " 61% 23/38 [00:10<00:04,  3.09it/s]\u001b[A\n",
            " 63% 24/38 [00:10<00:04,  3.10it/s]\u001b[A\n",
            " 66% 25/38 [00:10<00:04,  3.11it/s]\u001b[A\n",
            " 68% 26/38 [00:11<00:03,  3.13it/s]\u001b[A\n",
            " 71% 27/38 [00:11<00:03,  3.13it/s]\u001b[A\n",
            " 74% 28/38 [00:11<00:03,  3.14it/s]\u001b[A\n",
            " 76% 29/38 [00:12<00:02,  3.14it/s]\u001b[A\n",
            " 79% 30/38 [00:12<00:02,  3.14it/s]\u001b[A\n",
            " 82% 31/38 [00:12<00:02,  3.13it/s]\u001b[A\n",
            " 84% 32/38 [00:13<00:01,  3.14it/s]\u001b[A\n",
            " 87% 33/38 [00:13<00:01,  3.14it/s]\u001b[A\n",
            " 89% 34/38 [00:13<00:01,  3.12it/s]\u001b[A\n",
            " 92% 35/38 [00:14<00:00,  3.13it/s]\u001b[A\n",
            " 95% 36/38 [00:14<00:00,  3.14it/s]\u001b[A\n",
            " 97% 37/38 [00:14<00:00,  3.12it/s]\u001b[A\n",
            "100% 38/38 [00:16<00:00,  2.35it/s]\n",
            "Load checkpoint from: checkpoints/wav2lip_gan.pth\n",
            "Model loaded\n",
            "100% 3/3 [00:26<00:00,  8.82s/it]\n",
            "ffmpeg version 3.4.8-0ubuntu0.2 Copyright (c) 2000-2020 the FFmpeg developers\n",
            "  built with gcc 7 (Ubuntu 7.5.0-3ubuntu1~18.04)\n",
            "  configuration: --prefix=/usr --extra-version=0ubuntu0.2 --toolchain=hardened --libdir=/usr/lib/x86_64-linux-gnu --incdir=/usr/include/x86_64-linux-gnu --enable-gpl --disable-stripping --enable-avresample --enable-avisynth --enable-gnutls --enable-ladspa --enable-libass --enable-libbluray --enable-libbs2b --enable-libcaca --enable-libcdio --enable-libflite --enable-libfontconfig --enable-libfreetype --enable-libfribidi --enable-libgme --enable-libgsm --enable-libmp3lame --enable-libmysofa --enable-libopenjpeg --enable-libopenmpt --enable-libopus --enable-libpulse --enable-librubberband --enable-librsvg --enable-libshine --enable-libsnappy --enable-libsoxr --enable-libspeex --enable-libssh --enable-libtheora --enable-libtwolame --enable-libvorbis --enable-libvpx --enable-libwavpack --enable-libwebp --enable-libx265 --enable-libxml2 --enable-libxvid --enable-libzmq --enable-libzvbi --enable-omx --enable-openal --enable-opengl --enable-sdl2 --enable-libdc1394 --enable-libdrm --enable-libiec61883 --enable-chromaprint --enable-frei0r --enable-libopencv --enable-libx264 --enable-shared\n",
            "  libavutil      55. 78.100 / 55. 78.100\n",
            "  libavcodec     57.107.100 / 57.107.100\n",
            "  libavformat    57. 83.100 / 57. 83.100\n",
            "  libavdevice    57. 10.100 / 57. 10.100\n",
            "  libavfilter     6.107.100 /  6.107.100\n",
            "  libavresample   3.  7.  0 /  3.  7.  0\n",
            "  libswscale      4.  8.100 /  4.  8.100\n",
            "  libswresample   2.  9.100 /  2.  9.100\n",
            "  libpostproc    54.  7.100 / 54.  7.100\n",
            "\u001b[0;33mGuessed Channel Layout for Input Stream #0.0 : mono\n",
            "\u001b[0mInput #0, wav, from 'temp/temp.wav':\n",
            "  Metadata:\n",
            "    encoder         : Lavf57.83.100\n",
            "  Duration: 00:00:11.35, bitrate: 384 kb/s\n",
            "    Stream #0:0: Audio: pcm_s16le ([1][0][0][0] / 0x0001), 24000 Hz, mono, s16, 384 kb/s\n",
            "Input #1, avi, from 'temp/result.avi':\n",
            "  Metadata:\n",
            "    encoder         : Lavf58.26.101\n",
            "  Duration: 00:00:11.23, start: 0.000000, bitrate: 1389 kb/s\n",
            "    Stream #1:0: Video: mpeg4 (Simple Profile) (DIVX / 0x58564944), yuv420p, 640x360 [SAR 1:1 DAR 16:9], 1383 kb/s, 30 fps, 30 tbr, 30 tbn, 30 tbc\n",
            "Stream mapping:\n",
            "  Stream #1:0 -> #0:0 (mpeg4 (native) -> h264 (libx264))\n",
            "  Stream #0:0 -> #0:1 (pcm_s16le (native) -> aac (native))\n",
            "Press [q] to stop, [?] for help\n",
            "\u001b[1;36m[libx264 @ 0x55ce72100d00] \u001b[0m\u001b[0;33m-qscale is ignored, -crf is recommended.\n",
            "\u001b[0m\u001b[1;36m[libx264 @ 0x55ce72100d00] \u001b[0musing SAR=1/1\n",
            "\u001b[1;36m[libx264 @ 0x55ce72100d00] \u001b[0musing cpu capabilities: MMX2 SSE2Fast SSSE3 SSE4.2 AVX FMA3 BMI2 AVX2\n",
            "\u001b[1;36m[libx264 @ 0x55ce72100d00] \u001b[0mprofile High, level 3.0\n",
            "\u001b[1;36m[libx264 @ 0x55ce72100d00] \u001b[0m264 - core 152 r2854 e9a5903 - H.264/MPEG-4 AVC codec - Copyleft 2003-2017 - http://www.videolan.org/x264.html - options: cabac=1 ref=3 deblock=1:0:0 analyse=0x3:0x113 me=hex subme=7 psy=1 psy_rd=1.00:0.00 mixed_ref=1 me_range=16 chroma_me=1 trellis=1 8x8dct=1 cqm=0 deadzone=21,11 fast_pskip=1 chroma_qp_offset=-2 threads=3 lookahead_threads=1 sliced_threads=0 nr=0 decimate=1 interlaced=0 bluray_compat=0 constrained_intra=0 bframes=3 b_pyramid=2 b_adapt=1 b_bias=0 direct=1 weightb=1 open_gop=0 weightp=2 keyint=250 keyint_min=25 scenecut=40 intra_refresh=0 rc_lookahead=40 rc=crf mbtree=1 crf=23.0 qcomp=0.60 qpmin=0 qpmax=69 qpstep=4 ip_ratio=1.40 aq=1:1.00\n",
            "Output #0, mp4, to 'results/result_voice.mp4':\n",
            "  Metadata:\n",
            "    encoder         : Lavf57.83.100\n",
            "    Stream #0:0: Video: h264 (libx264) (avc1 / 0x31637661), yuv420p(progressive), 640x360 [SAR 1:1 DAR 16:9], q=-1--1, 30 fps, 15360 tbn, 30 tbc\n",
            "    Metadata:\n",
            "      encoder         : Lavc57.107.100 libx264\n",
            "    Side data:\n",
            "      cpb: bitrate max/min/avg: 0/0/0 buffer size: 0 vbv_delay: -1\n",
            "    Stream #0:1: Audio: aac (LC) (mp4a / 0x6134706D), 24000 Hz, mono, fltp, 69 kb/s\n",
            "    Metadata:\n",
            "      encoder         : Lavc57.107.100 aac\n",
            "frame=  337 fps= 68 q=-1.0 Lsize=     889kB time=00:00:11.39 bitrate= 639.2kbits/s speed=2.31x    \n",
            "video:781kB audio:99kB subtitle:0kB other streams:0kB global headers:0kB muxing overhead: 0.951426%\n",
            "\u001b[1;36m[libx264 @ 0x55ce72100d00] \u001b[0mframe I:2     Avg QP:21.50  size: 12384\n",
            "\u001b[1;36m[libx264 @ 0x55ce72100d00] \u001b[0mframe P:269   Avg QP:23.05  size:  2644\n",
            "\u001b[1;36m[libx264 @ 0x55ce72100d00] \u001b[0mframe B:66    Avg QP:24.80  size:   958\n",
            "\u001b[1;36m[libx264 @ 0x55ce72100d00] \u001b[0mconsecutive B-frames: 69.7%  5.3% 21.4%  3.6%\n",
            "\u001b[1;36m[libx264 @ 0x55ce72100d00] \u001b[0mmb I  I16..4: 13.1% 79.7%  7.2%\n",
            "\u001b[1;36m[libx264 @ 0x55ce72100d00] \u001b[0mmb P  I16..4:  1.1%  8.6%  0.0%  P16..4: 45.5%  6.4%  5.2%  0.0%  0.0%    skip:33.1%\n",
            "\u001b[1;36m[libx264 @ 0x55ce72100d00] \u001b[0mmb B  I16..4:  0.8%  6.2%  0.0%  B16..8: 29.2%  1.0%  0.1%  direct: 0.5%  skip:62.2%  L0:45.4% L1:52.9% BI: 1.7%\n",
            "\u001b[1;36m[libx264 @ 0x55ce72100d00] \u001b[0m8x8 transform intra:88.0% inter:84.8%\n",
            "\u001b[1;36m[libx264 @ 0x55ce72100d00] \u001b[0mcoded y,uvDC,uvAC intra: 56.8% 71.7% 2.8% inter: 16.1% 23.8% 0.1%\n",
            "\u001b[1;36m[libx264 @ 0x55ce72100d00] \u001b[0mi16 v,h,dc,p: 16% 20% 38% 26%\n",
            "\u001b[1;36m[libx264 @ 0x55ce72100d00] \u001b[0mi8 v,h,dc,ddl,ddr,vr,hd,vl,hu: 16% 16% 62%  1%  1%  1%  1%  1%  1%\n",
            "\u001b[1;36m[libx264 @ 0x55ce72100d00] \u001b[0mi4 v,h,dc,ddl,ddr,vr,hd,vl,hu: 35% 19% 12%  7%  6%  7%  6%  5%  4%\n",
            "\u001b[1;36m[libx264 @ 0x55ce72100d00] \u001b[0mi8c dc,h,v,p: 57% 23% 18%  2%\n",
            "\u001b[1;36m[libx264 @ 0x55ce72100d00] \u001b[0mWeighted P-Frames: Y:0.0% UV:0.0%\n",
            "\u001b[1;36m[libx264 @ 0x55ce72100d00] \u001b[0mref P L0: 74.6%  7.7% 12.4%  5.4%\n",
            "\u001b[1;36m[libx264 @ 0x55ce72100d00] \u001b[0mref B L0: 87.6%  9.7%  2.7%\n",
            "\u001b[1;36m[libx264 @ 0x55ce72100d00] \u001b[0mref B L1: 99.0%  1.0%\n",
            "\u001b[1;36m[libx264 @ 0x55ce72100d00] \u001b[0mkb/s:569.15\n",
            "\u001b[1;36m[aac @ 0x55ce72122000] \u001b[0mQavg: 6937.881\n"
          ],
          "name": "stdout"
        }
      ]
    }
  ]
}